{
 "cells": [
  {
   "cell_type": "code",
   "execution_count": 128,
   "metadata": {},
   "outputs": [],
   "source": [
    "#importing modules\n",
    "import requests\n",
    "from bs4 import BeautifulSoup\n",
    "import pandas as pd"
   ]
  },
  {
   "cell_type": "code",
   "execution_count": 129,
   "metadata": {},
   "outputs": [],
   "source": [
    "url = \"https://www.timesjobs.com/candidate/job-search.html?searchType=personalizedSearch&from=submit&txtKeywords=python&txtLocation=\"\n",
    "response = requests.get(url)\n",
    "soup = BeautifulSoup(response.text, 'html5lib')"
   ]
  },
  {
   "cell_type": "code",
   "execution_count": 130,
   "metadata": {},
   "outputs": [],
   "source": [
    "job_cards = soup.find('ul', class_=\"new-joblist\")   #storing all job posts\n",
    "jobs = job_cards.find_all('li', class_=\"clearfix job-bx wht-shd-bx\")    #storing all jobs as a list"
   ]
  },
  {
   "cell_type": "code",
   "execution_count": 139,
   "metadata": {},
   "outputs": [],
   "source": [
    "jobs_data = []  #empty list to store jobs data\n",
    "filter_skills = input('Enter the skill you want to filter out: ')   #skill you want to filter out\n",
    "\n",
    "for job in jobs:\n",
    "    date_posted = job.find('span', class_=\"sim-posted\").span.text   #fetch date posted\n",
    "    \n",
    "    if 'few' in date_posted:    #check if its a recent job\n",
    "        skills = job.find('span', class_=\"srp-skills\").text.replace('\\n','').replace(' ','')    #fetch skills\n",
    "        \n",
    "        if filter_skills=='':   #check if there is no skill to filter out \n",
    "            company = job.find('h3', class_=\"joblist-comp-name\").text.replace('\\n','').strip()\n",
    "            experience = job.find('li').text[11:]    \n",
    "            jobs_data.append([company, experience, skills, date_posted, link])\n",
    "            link = job.find('a').attrs['href']\n",
    "\n",
    "        elif filter_skills not in skills:   #filter out skill\n",
    "            company = job.find('h3', class_=\"joblist-comp-name\").text.replace('\\n','').strip()\n",
    "            experience = job.find('li').text[11:]    \n",
    "            jobs_data.append([company, experience, skills, date_posted, link])\n",
    "            link = job.find('a').attrs['href']"
   ]
  },
  {
   "cell_type": "code",
   "execution_count": 140,
   "metadata": {},
   "outputs": [],
   "source": [
    "#make dataframe from jobs data\n",
    "df = pd.DataFrame(jobs_data, columns = ['Company', 'Experience Req.', 'Skills', 'Date', 'Link'])"
   ]
  },
  {
   "cell_type": "code",
   "execution_count": 141,
   "metadata": {},
   "outputs": [],
   "source": [
    "df.to_excel('jobs data.xlsx')"
   ]
  },
  {
   "cell_type": "code",
   "execution_count": 142,
   "metadata": {},
   "outputs": [],
   "source": [
    "df.to_csv('jobs data.csv')"
   ]
  }
 ],
 "metadata": {
  "kernelspec": {
   "display_name": "Python 3",
   "language": "python",
   "name": "python3"
  },
  "language_info": {
   "codemirror_mode": {
    "name": "ipython",
    "version": 3
   },
   "file_extension": ".py",
   "mimetype": "text/x-python",
   "name": "python",
   "nbconvert_exporter": "python",
   "pygments_lexer": "ipython3",
   "version": "3.11.0"
  },
  "orig_nbformat": 4
 },
 "nbformat": 4,
 "nbformat_minor": 2
}
